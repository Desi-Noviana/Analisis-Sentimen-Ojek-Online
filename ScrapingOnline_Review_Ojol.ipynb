{
  "nbformat": 4,
  "nbformat_minor": 0,
  "metadata": {
    "colab": {
      "provenance": [],
      "include_colab_link": true
    },
    "kernelspec": {
      "name": "python3",
      "display_name": "Python 3"
    },
    "language_info": {
      "name": "python"
    }
  },
  "cells": [
    {
      "cell_type": "markdown",
      "metadata": {
        "id": "view-in-github",
        "colab_type": "text"
      },
      "source": [
        "<a href=\"https://colab.research.google.com/github/Desi-Noviana/Analisis-Sentimen-Ojek-Online/blob/main/ScrapingOnline_Review_Ojol.ipynb\" target=\"_parent\"><img src=\"https://colab.research.google.com/assets/colab-badge.svg\" alt=\"Open In Colab\"/></a>"
      ]
    },
    {
      "cell_type": "code",
      "metadata": {
        "colab": {
          "base_uri": "https://localhost:8080/"
        },
        "id": "TeKGREj61n6J",
        "outputId": "007a9939-f0e0-4156-b4b1-7603e2048c99"
      },
      "source": [
        "pip install pandas"
      ],
      "execution_count": null,
      "outputs": [
        {
          "output_type": "stream",
          "name": "stdout",
          "text": [
            "Requirement already satisfied: pandas in /usr/local/lib/python3.7/dist-packages (1.3.5)\n",
            "Requirement already satisfied: pytz>=2017.3 in /usr/local/lib/python3.7/dist-packages (from pandas) (2018.9)\n",
            "Requirement already satisfied: python-dateutil>=2.7.3 in /usr/local/lib/python3.7/dist-packages (from pandas) (2.8.2)\n",
            "Requirement already satisfied: numpy>=1.17.3 in /usr/local/lib/python3.7/dist-packages (from pandas) (1.21.5)\n",
            "Requirement already satisfied: six>=1.5 in /usr/local/lib/python3.7/dist-packages (from python-dateutil>=2.7.3->pandas) (1.15.0)\n"
          ]
        }
      ]
    },
    {
      "cell_type": "code",
      "metadata": {
        "colab": {
          "base_uri": "https://localhost:8080/"
        },
        "id": "IzHNonBX1vAA",
        "outputId": "841b190e-705a-4d98-8108-981e61b22fb5"
      },
      "source": [
        "pip install matplotlib"
      ],
      "execution_count": null,
      "outputs": [
        {
          "output_type": "stream",
          "name": "stdout",
          "text": [
            "Requirement already satisfied: matplotlib in /usr/local/lib/python3.7/dist-packages (3.2.2)\n",
            "Requirement already satisfied: python-dateutil>=2.1 in /usr/local/lib/python3.7/dist-packages (from matplotlib) (2.8.2)\n",
            "Requirement already satisfied: numpy>=1.11 in /usr/local/lib/python3.7/dist-packages (from matplotlib) (1.21.5)\n",
            "Requirement already satisfied: kiwisolver>=1.0.1 in /usr/local/lib/python3.7/dist-packages (from matplotlib) (1.4.0)\n",
            "Requirement already satisfied: cycler>=0.10 in /usr/local/lib/python3.7/dist-packages (from matplotlib) (0.11.0)\n",
            "Requirement already satisfied: pyparsing!=2.0.4,!=2.1.2,!=2.1.6,>=2.0.1 in /usr/local/lib/python3.7/dist-packages (from matplotlib) (3.0.7)\n",
            "Requirement already satisfied: typing-extensions in /usr/local/lib/python3.7/dist-packages (from kiwisolver>=1.0.1->matplotlib) (3.10.0.2)\n",
            "Requirement already satisfied: six>=1.5 in /usr/local/lib/python3.7/dist-packages (from python-dateutil>=2.1->matplotlib) (1.15.0)\n"
          ]
        }
      ]
    },
    {
      "cell_type": "code",
      "metadata": {
        "colab": {
          "base_uri": "https://localhost:8080/"
        },
        "id": "DBcdh9_t17bz",
        "outputId": "8954d38e-cbee-4ca9-c6a8-101d2872f872"
      },
      "source": [
        "pip install seaborn"
      ],
      "execution_count": null,
      "outputs": [
        {
          "output_type": "stream",
          "name": "stdout",
          "text": [
            "Requirement already satisfied: seaborn in /usr/local/lib/python3.7/dist-packages (0.11.2)\n",
            "Requirement already satisfied: scipy>=1.0 in /usr/local/lib/python3.7/dist-packages (from seaborn) (1.4.1)\n",
            "Requirement already satisfied: pandas>=0.23 in /usr/local/lib/python3.7/dist-packages (from seaborn) (1.3.5)\n",
            "Requirement already satisfied: numpy>=1.15 in /usr/local/lib/python3.7/dist-packages (from seaborn) (1.21.5)\n",
            "Requirement already satisfied: matplotlib>=2.2 in /usr/local/lib/python3.7/dist-packages (from seaborn) (3.2.2)\n",
            "Requirement already satisfied: kiwisolver>=1.0.1 in /usr/local/lib/python3.7/dist-packages (from matplotlib>=2.2->seaborn) (1.4.0)\n",
            "Requirement already satisfied: cycler>=0.10 in /usr/local/lib/python3.7/dist-packages (from matplotlib>=2.2->seaborn) (0.11.0)\n",
            "Requirement already satisfied: python-dateutil>=2.1 in /usr/local/lib/python3.7/dist-packages (from matplotlib>=2.2->seaborn) (2.8.2)\n",
            "Requirement already satisfied: pyparsing!=2.0.4,!=2.1.2,!=2.1.6,>=2.0.1 in /usr/local/lib/python3.7/dist-packages (from matplotlib>=2.2->seaborn) (3.0.7)\n",
            "Requirement already satisfied: typing-extensions in /usr/local/lib/python3.7/dist-packages (from kiwisolver>=1.0.1->matplotlib>=2.2->seaborn) (3.10.0.2)\n",
            "Requirement already satisfied: pytz>=2017.3 in /usr/local/lib/python3.7/dist-packages (from pandas>=0.23->seaborn) (2018.9)\n",
            "Requirement already satisfied: six>=1.5 in /usr/local/lib/python3.7/dist-packages (from python-dateutil>=2.1->matplotlib>=2.2->seaborn) (1.15.0)\n"
          ]
        }
      ]
    },
    {
      "cell_type": "code",
      "metadata": {
        "colab": {
          "base_uri": "https://localhost:8080/"
        },
        "id": "1_NNbUeS1-Vz",
        "outputId": "40d56b89-dc33-4f06-e4da-d40c6645269d"
      },
      "source": [
        "pip install google_play_scraper"
      ],
      "execution_count": null,
      "outputs": [
        {
          "output_type": "stream",
          "name": "stdout",
          "text": [
            "Collecting google_play_scraper\n",
            "  Downloading google-play-scraper-1.0.3.tar.gz (52 kB)\n",
            "\u001b[?25l\r\u001b[K     |██████▏                         | 10 kB 21.9 MB/s eta 0:00:01\r\u001b[K     |████████████▍                   | 20 kB 15.4 MB/s eta 0:00:01\r\u001b[K     |██████████████████▋             | 30 kB 10.9 MB/s eta 0:00:01\r\u001b[K     |████████████████████████▉       | 40 kB 9.2 MB/s eta 0:00:01\r\u001b[K     |███████████████████████████████ | 51 kB 5.6 MB/s eta 0:00:01\r\u001b[K     |████████████████████████████████| 52 kB 1.0 MB/s \n",
            "\u001b[?25hBuilding wheels for collected packages: google-play-scraper\n",
            "  Building wheel for google-play-scraper (setup.py) ... \u001b[?25l\u001b[?25hdone\n",
            "  Created wheel for google-play-scraper: filename=google_play_scraper-1.0.3-py3-none-any.whl size=24394 sha256=b31db3227997ac610a93afc505be328a2cdf6fc2bf073e1ac76dbd16462d86bd\n",
            "  Stored in directory: /root/.cache/pip/wheels/81/37/0b/4a14be55b449a048cd93d79930b1a980dee7896480defa1923\n",
            "Successfully built google-play-scraper\n",
            "Installing collected packages: google-play-scraper\n",
            "Successfully installed google-play-scraper-1.0.3\n"
          ]
        }
      ]
    },
    {
      "cell_type": "code",
      "metadata": {
        "id": "BS0Wk2FX2B3p"
      },
      "source": [
        "import json\n",
        "import pandas as pd\n",
        "from tqdm import tqdm\n",
        "import seaborn as sns\n",
        "import matplotlib.pyplot as plt\n",
        "from pygments import highlight\n",
        "from pygments.lexers import JsonLexer\n",
        "from pygments.formatters import TerminalFormatter\n",
        "from google_play_scraper import Sort, reviews, app\n",
        "%matplotlib inline\n",
        "%config InlineBackend.figure_format='retina'\n",
        "sns.set(style='whitegrid', palette='muted', font_scale=1.2)"
      ],
      "execution_count": null,
      "outputs": []
    },
    {
      "cell_type": "code",
      "metadata": {
        "id": "z7dNQrlm2Fnr"
      },
      "source": [
        "app_packages = [\n",
        "  'com.gojek.app'\n",
        "]"
      ],
      "execution_count": null,
      "outputs": []
    },
    {
      "cell_type": "code",
      "metadata": {
        "colab": {
          "base_uri": "https://localhost:8080/"
        },
        "id": "dZ3Cd7ZK2M7y",
        "outputId": "dd5bf985-db6a-4150-fb96-b44fccb06651"
      },
      "source": [
        "app_infos = []\n",
        "for ap in tqdm(app_packages):\n",
        "  info = app(ap, lang='id', country='id')\n",
        "  del info['comments']\n",
        "  app_infos.append(info)"
      ],
      "execution_count": null,
      "outputs": [
        {
          "output_type": "stream",
          "name": "stderr",
          "text": [
            "100%|██████████| 1/1 [00:00<00:00,  3.93it/s]\n"
          ]
        }
      ]
    },
    {
      "cell_type": "code",
      "metadata": {
        "id": "dI87GC3A2Qfp"
      },
      "source": [
        "def print_json(json_object):\n",
        "  json_str = json.dumps(\n",
        "    json_object,\n",
        "    indent=2,\n",
        "    sort_keys=True,\n",
        "    default=str\n",
        "  )\n",
        "  print(highlight(json_str, JsonLexer(), TerminalFormatter()))"
      ],
      "execution_count": null,
      "outputs": []
    },
    {
      "cell_type": "code",
      "metadata": {
        "colab": {
          "base_uri": "https://localhost:8080/"
        },
        "id": "KWcScasZ2T6q",
        "outputId": "521d3c65-d424-4b92-c53b-25e25aa63c93"
      },
      "source": [
        "print_json(app_infos[0])"
      ],
      "execution_count": null,
      "outputs": [
        {
          "output_type": "stream",
          "name": "stdout",
          "text": [
            "{\n",
            "  \u001b[94m\"adSupported\"\u001b[39;49;00m: \u001b[34mnull\u001b[39;49;00m,\n",
            "  \u001b[94m\"androidVersion\"\u001b[39;49;00m: \u001b[33m\"5.0\"\u001b[39;49;00m,\n",
            "  \u001b[94m\"androidVersionText\"\u001b[39;49;00m: \u001b[33m\"5.0 dan yang lebih tinggi\"\u001b[39;49;00m,\n",
            "  \u001b[94m\"appId\"\u001b[39;49;00m: \u001b[33m\"com.gojek.app\"\u001b[39;49;00m,\n",
            "  \u001b[94m\"containsAds\"\u001b[39;49;00m: \u001b[34mfalse\u001b[39;49;00m,\n",
            "  \u001b[94m\"contentRating\"\u001b[39;49;00m: \u001b[33m\"Rating 3+\"\u001b[39;49;00m,\n",
            "  \u001b[94m\"contentRatingDescription\"\u001b[39;49;00m: \u001b[34mnull\u001b[39;49;00m,\n",
            "  \u001b[94m\"currency\"\u001b[39;49;00m: \u001b[33m\"IDR\"\u001b[39;49;00m,\n",
            "  \u001b[94m\"description\"\u001b[39;49;00m: \u001b[33m\"Gojek bukan hanya aplikasi penyedia layanan transportasi, pesan antar makanan, logistik, pembayaran, dan kebutuhan sehari-hari, loh.\\r\\n\\r\\nGojek juga punya misi sosial untuk meningkatkan taraf hidup masyarakat. Caranya? Dengan saling membantu!\\r\\n\\r\\nSampai hari ini, Gojek telah bermitra dengan lebih dari 1 juta driver, 125 ribu pedagang kuliner, dan 30 ribu penyedia jasa lainnya, semua tersebar di 50 kota di Indonesia.\\r\\n\\r\\nNah, dengan men-download aplikasi dan menggunakan jasa Gojek, kamu gak cuma bakal terbantu dalam mengerjakan urusan kamu sehari-hari\\u2026 tapi kamu juga bakal membantu para mitra Gojek dalam menggapai mimpi-mimpi mereka dan keluarga mereka, dan turut jadi bagian dari misi meningkatkan taraf hidup masyarakat Indonesia!\\r\\n\\r\\nNgomong-ngomong, lewat aplikasi Gojek bisa ngapain aja, sih? Ini sedikit penjelasannya:\\r\\n\\r\\nMau pergi-pergi? Kamu bisa pake GoRide, GoCar, atau GoBluebird. Gak tau jalan dan pengen naik kendaraan umum? Buka aja GoTransit untuk tau rute ternyaman khusus buatmu.\\r\\n\\r\\nLaper dan pengen pesen makanan? Gampang, tinggal pesen lewat GoFood. Kalau lagi pengen makan di luar, kamu bisa cobain GoFood pickup dan jangan lupa bayar pakai GoPay ya, buat mencegah kontak fisik. \\r\\n\\r\\nKalau mau beli pulsa, paket data, atau pengen bayar tagihan juga gampang banget! Bisa lewat GoTagihan.\\r\\n\\r\\nPengen belanja tanpa keluar rumah? Buka aja GoMart atau GoShop. Kalau mau belanja obat, bisa lewat GoMed, ya. Kamu juga bisa belanja online di JD.id, Blibli, dan e-commerce lainnya lewat Gojek.\\r\\n\\r\\nBuat kebutuhan pengiriman, kamu bisa pakai GoSend, atau GoBox kalau barang yang kamu kirim banyak atau besar-besar.\\r\\n\\r\\nBeli tiket bioskop atau acara-acara seru? Gak perlu ngantri lagi, pesen aja lewat GoTix.\\r\\n\\r\\nMau bayar program prakerja buat nambahin skill kamu? Langsung aja bayar pakai GoPay! #GoPayUntukPrakerja\\r\\n\\r\\nKamu juga bisa upgrade akun ke GoPay Plus buat nikmatin fitur PayLater (penyelamat saat belum isi saldo) hanya dengan mendaftarkan data diri. Semua pengguna GoPay Plus berhak memperoleh jaminan saldo kembali, loh!* Soal bayar membayar bisa terpenuhi, tapi keamanan saldomu juga udah pasti terjamin.\\r\\n\\r\\nPakai GoPay praktis dan super gampang. Kamu bisa bayar semua transaksi aplikasi Gojekmu, transfer saldo ke teman, dan bisa juga tarik saldo ke rekening bank. Kamu tinggal verifikasi akun GoPaymu dan daftarkan rekening bank kamu. \\r\\n\\r\\nEnak, kan? Tunggu apa lagi? Yuk, download!\\r\\n\\r\\n\\r\\n*Syarat dan Ketentuan berlaku\"\u001b[39;49;00m,\n",
            "  \u001b[94m\"descriptionHTML\"\u001b[39;49;00m: \u001b[33m\"Gojek bukan hanya aplikasi penyedia layanan transportasi, pesan antar makanan, logistik, pembayaran, dan kebutuhan sehari-hari, loh.<br><br>Gojek juga punya misi sosial untuk meningkatkan taraf hidup masyarakat. Caranya? Dengan saling membantu!<br><br>Sampai hari ini, Gojek telah bermitra dengan lebih dari 1 juta driver, 125 ribu pedagang kuliner, dan 30 ribu penyedia jasa lainnya, semua tersebar di 50 kota di Indonesia.<br><br>Nah, dengan men-download aplikasi dan menggunakan jasa Gojek, kamu gak cuma bakal terbantu dalam mengerjakan urusan kamu sehari-hari\\u2026 tapi kamu juga bakal membantu para mitra Gojek dalam menggapai mimpi-mimpi mereka dan keluarga mereka, dan turut jadi bagian dari misi meningkatkan taraf hidup masyarakat Indonesia!<br><br>Ngomong-ngomong, lewat aplikasi Gojek bisa ngapain aja, sih? Ini sedikit penjelasannya:<br><br>Mau pergi-pergi? Kamu bisa pake GoRide, GoCar, atau GoBluebird. Gak tau jalan dan pengen naik kendaraan umum? Buka aja GoTransit untuk tau rute ternyaman khusus buatmu.<br><br>Laper dan pengen pesen makanan? Gampang, tinggal pesen lewat GoFood. Kalau lagi pengen makan di luar, kamu bisa cobain GoFood pickup dan jangan lupa bayar pakai GoPay ya, buat mencegah kontak fisik. <br><br>Kalau mau beli pulsa, paket data, atau pengen bayar tagihan juga gampang banget! Bisa lewat GoTagihan.<br><br>Pengen belanja tanpa keluar rumah? Buka aja GoMart atau GoShop. Kalau mau belanja obat, bisa lewat GoMed, ya. Kamu juga bisa belanja online di JD.id, Blibli, dan e-commerce lainnya lewat Gojek.<br><br>Buat kebutuhan pengiriman, kamu bisa pakai GoSend, atau GoBox kalau barang yang kamu kirim banyak atau besar-besar.<br><br>Beli tiket bioskop atau acara-acara seru? Gak perlu ngantri lagi, pesen aja lewat GoTix.<br><br>Mau bayar program prakerja buat nambahin skill kamu? Langsung aja bayar pakai GoPay! #GoPayUntukPrakerja<br><br>Kamu juga bisa upgrade akun ke GoPay Plus buat nikmatin fitur PayLater (penyelamat saat belum isi saldo) hanya dengan mendaftarkan data diri. Semua pengguna GoPay Plus berhak memperoleh jaminan saldo kembali, loh!* Soal bayar membayar bisa terpenuhi, tapi keamanan saldomu juga udah pasti terjamin.<br><br>Pakai GoPay praktis dan super gampang. Kamu bisa bayar semua transaksi aplikasi Gojekmu, transfer saldo ke teman, dan bisa juga tarik saldo ke rekening bank. Kamu tinggal verifikasi akun GoPaymu dan daftarkan rekening bank kamu. <br><br>Enak, kan? Tunggu apa lagi? Yuk, download!<br><br><br>*Syarat dan Ketentuan berlaku\"\u001b[39;49;00m,\n",
            "  \u001b[94m\"developer\"\u001b[39;49;00m: \u001b[33m\"PT GoTo Gojek Tokopedia\"\u001b[39;49;00m,\n",
            "  \u001b[94m\"developerAddress\"\u001b[39;49;00m: \u001b[33m\"Pasaraya Blok M Gedung B Lt. 6, Jalan Iskandarsyah II No.7, RW. 2, Melawai, Kebayoran Baru, RT.3/RW.1, Kota Jakarta Selatan, 12160, Indonesia\"\u001b[39;49;00m,\n",
            "  \u001b[94m\"developerEmail\"\u001b[39;49;00m: \u001b[33m\"info@go-jek.com\"\u001b[39;49;00m,\n",
            "  \u001b[94m\"developerId\"\u001b[39;49;00m: \u001b[33m\"4853785597837765677\"\u001b[39;49;00m,\n",
            "  \u001b[94m\"developerInternalID\"\u001b[39;49;00m: \u001b[33m\"4853785597837765677\"\u001b[39;49;00m,\n",
            "  \u001b[94m\"developerWebsite\"\u001b[39;49;00m: \u001b[33m\"https://www.gojek.com\"\u001b[39;49;00m,\n",
            "  \u001b[94m\"editorsChoice\"\u001b[39;49;00m: \u001b[34mfalse\u001b[39;49;00m,\n",
            "  \u001b[94m\"free\"\u001b[39;49;00m: \u001b[34mtrue\u001b[39;49;00m,\n",
            "  \u001b[94m\"genre\"\u001b[39;49;00m: \u001b[33m\"Perjalanan & Lokal\"\u001b[39;49;00m,\n",
            "  \u001b[94m\"genreId\"\u001b[39;49;00m: \u001b[33m\"TRAVEL_AND_LOCAL\"\u001b[39;49;00m,\n",
            "  \u001b[94m\"headerImage\"\u001b[39;49;00m: \u001b[33m\"https://play-lh.googleusercontent.com/iL3QLkfg8vsKvehjpTbAM_Rx3vSj8m3qTzTBlrQIvdKdeJPKSHCOoNjn8bptJ6vmCQo\"\u001b[39;49;00m,\n",
            "  \u001b[94m\"histogram\"\u001b[39;49;00m: [\n",
            "    \u001b[34m322547\u001b[39;49;00m,\n",
            "    \u001b[34m71845\u001b[39;49;00m,\n",
            "    \u001b[34m110655\u001b[39;49;00m,\n",
            "    \u001b[34m356340\u001b[39;49;00m,\n",
            "    \u001b[34m3785743\u001b[39;49;00m\n",
            "  ],\n",
            "  \u001b[94m\"icon\"\u001b[39;49;00m: \u001b[33m\"https://play-lh.googleusercontent.com/DJmgVH8zrI8JCDS0C-mdErO8kiNZlsJfgJqKD9lAXLB1SGG875yxKLsWEyp0Pjr1py8\"\u001b[39;49;00m,\n",
            "  \u001b[94m\"inAppProductPrice\"\u001b[39;49;00m: \u001b[34mnull\u001b[39;49;00m,\n",
            "  \u001b[94m\"installs\"\u001b[39;49;00m: \u001b[33m\"100.000.000+\"\u001b[39;49;00m,\n",
            "  \u001b[94m\"minInstalls\"\u001b[39;49;00m: \u001b[34m100000000\u001b[39;49;00m,\n",
            "  \u001b[94m\"moreByDeveloper\"\u001b[39;49;00m: \u001b[34mnull\u001b[39;49;00m,\n",
            "  \u001b[94m\"offersIAP\"\u001b[39;49;00m: \u001b[34mfalse\u001b[39;49;00m,\n",
            "  \u001b[94m\"originalPrice\"\u001b[39;49;00m: \u001b[34mnull\u001b[39;49;00m,\n",
            "  \u001b[94m\"price\"\u001b[39;49;00m: \u001b[34m0\u001b[39;49;00m,\n",
            "  \u001b[94m\"privacyPolicy\"\u001b[39;49;00m: \u001b[33m\"http://www.gojek.com/privacy-policy/\"\u001b[39;49;00m,\n",
            "  \u001b[94m\"ratings\"\u001b[39;49;00m: \u001b[34m4647130\u001b[39;49;00m,\n",
            "  \u001b[94m\"recentChanges\"\u001b[39;49;00m: \u001b[33m\"HATI-HATI DI JALAN\\r\\n\\r\\n*ehem, 123.. MUSIK!\\r\\n\\r\\nPerjalanan membawamu\\r\\nbertemu denganku, kubertemu kamu~\\r\\n\\r\\nSepertimu, yang kucari\\r\\nKonon aku juga, app yang engkau cari~\\r\\n\\r\\nKukira kita asam dan garam\\r\\ndan \\\"Bertemu sesuai titik, ya.\\\"\\r\\nKisah awal kita mulai melaju~\\r\\n\\r\\nKukira kita akan bersama\\r\\nBegitu banyak yang bisa\\r\\nkulakukan untukmu~\\r\\n\\r\\nKukira takkan ada kendala\\r\\nKukira ini 'kan mudah\\r\\ntapi ada seranggaaa~\\r\\n\\r\\nUntung di 4.40, udah kubasmi semua.\\r\\nLanjutin perjalananmu tanpa serangga,\\r\\nsambil dengerin lagu si idola.\\r\\n\\r\\nApdet.\"\u001b[39;49;00m,\n",
            "  \u001b[94m\"recentChangesHTML\"\u001b[39;49;00m: \u001b[33m\"HATI-HATI DI JALAN<br><br>*ehem, 123.. MUSIK!<br><br>Perjalanan membawamu<br>bertemu denganku, kubertemu kamu~<br><br>Sepertimu, yang kucari<br>Konon aku juga, app yang engkau cari~<br><br>Kukira kita asam dan garam<br>dan &quot;Bertemu sesuai titik, ya.&quot;<br>Kisah awal kita mulai melaju~<br><br>Kukira kita akan bersama<br>Begitu banyak yang bisa<br>kulakukan untukmu~<br><br>Kukira takkan ada kendala<br>Kukira ini &#39;kan mudah<br>tapi ada seranggaaa~<br><br>Untung di 4.40, udah kubasmi semua.<br>Lanjutin perjalananmu tanpa serangga,<br>sambil dengerin lagu si idola.<br><br>Apdet.\"\u001b[39;49;00m,\n",
            "  \u001b[94m\"released\"\u001b[39;49;00m: \u001b[33m\"18 Des 2014\"\u001b[39;49;00m,\n",
            "  \u001b[94m\"reviews\"\u001b[39;49;00m: \u001b[34m1606626\u001b[39;49;00m,\n",
            "  \u001b[94m\"sale\"\u001b[39;49;00m: \u001b[34mfalse\u001b[39;49;00m,\n",
            "  \u001b[94m\"saleText\"\u001b[39;49;00m: \u001b[34mnull\u001b[39;49;00m,\n",
            "  \u001b[94m\"saleTime\"\u001b[39;49;00m: \u001b[34mnull\u001b[39;49;00m,\n",
            "  \u001b[94m\"score\"\u001b[39;49;00m: \u001b[34m4.551684\u001b[39;49;00m,\n",
            "  \u001b[94m\"screenshots\"\u001b[39;49;00m: [\n",
            "    \u001b[33m\"https://play-lh.googleusercontent.com/7EpLiQasZjNF9doyDMrHxtWi7F_QXzwMu4pS3DM-pNkFS-9VD6pav7x7quVS9zwFrDU\"\u001b[39;49;00m,\n",
            "    \u001b[33m\"https://play-lh.googleusercontent.com/OZpdaQufMQfPaNbKTJr-4Qzdgh8wdI7nq31lDGH8va2y9cbbs5yqsBvy1yWdCIG_rJs\"\u001b[39;49;00m,\n",
            "    \u001b[33m\"https://play-lh.googleusercontent.com/Ypt8-TbK8gaFhHEjqD8xJ4K1x5iefjqiJZU6uXN-ZjuFE-d_tBDtcoXZUFINgG-rhA\"\u001b[39;49;00m,\n",
            "    \u001b[33m\"https://play-lh.googleusercontent.com/dQxZgP0gEmdc9pxJFHotLglZYt9LfkxaHDRZF7c54jPdFs-tSFcmOoVh5gr59Mz27g\"\u001b[39;49;00m,\n",
            "    \u001b[33m\"https://play-lh.googleusercontent.com/qlBggUT795vOLYrHAWZc9rlg2cYzfMVMoDKb9gEfkd01BwF8DvDQb0UDtanvYuLQazc\"\u001b[39;49;00m,\n",
            "    \u001b[33m\"https://play-lh.googleusercontent.com/0foz_xhSLc3_Vvgqf12Z8HG5osc-udtbu0YnWo39j12kL9gMI7KP8vgnMPBNdZAbVKhd\"\u001b[39;49;00m,\n",
            "    \u001b[33m\"https://play-lh.googleusercontent.com/P3U54ZOt3xqJYSI76OmP7bQyACRTnyfaJ_yt6TSxSZXbdVbELFcuNlgJlXdjyHdkKw\"\u001b[39;49;00m,\n",
            "    \u001b[33m\"https://play-lh.googleusercontent.com/jsE2tWX4SmWujxmcqhLO4kXcs_V74cNn8GaSHtn6gPMeImrj41EwIVRhIiYEqIkRIlU\"\u001b[39;49;00m,\n",
            "    \u001b[33m\"https://play-lh.googleusercontent.com/imOQATaaSrHRv_vM9CbyRgpsu7KeheLzqsbF4sq32loPWq_T2Z9SmhiNcXUbBcyZbA\"\u001b[39;49;00m,\n",
            "    \u001b[33m\"https://play-lh.googleusercontent.com/D_XeAt8HyDeJ54uCSP2WjSIvP0THkpjnwy510Erip4MjLnz09ZRqUzuUBdPJ9rmiX0A\"\u001b[39;49;00m,\n",
            "    \u001b[33m\"https://play-lh.googleusercontent.com/5Pe6nZMKFsJmBbzYe-g__DViOl6q3AwM_JlkYGRZ93O-lJKyyeYG0E_YoBJOe0wR14g7\"\u001b[39;49;00m,\n",
            "    \u001b[33m\"https://play-lh.googleusercontent.com/bnQd-w1iOqOYBVfniQwAx2Liyz4BedtzCj3-dyTFqr-cvs_MlPDjKg87d-sak7P7IA\"\u001b[39;49;00m,\n",
            "    \u001b[33m\"https://play-lh.googleusercontent.com/pKHQpHvRfKGkkgAzU_inNEPnoU5PF69bzcBJBI5p8Y_Z1I8to_XdivuiuH7WQeyx9dQ\"\u001b[39;49;00m,\n",
            "    \u001b[33m\"https://play-lh.googleusercontent.com/-jc_qyynAh1s9qFfsI4vwab9NPxFORKxOcZxszeDDD_VtMrVqryoR6lXMv29X4wgW6s\"\u001b[39;49;00m,\n",
            "    \u001b[33m\"https://play-lh.googleusercontent.com/hVcaWZVKW6e-zoXsCewWHGPiEA0l_kkHwcrV5vMTNKuoRCnH6gXPk57b_OhJAXiR1I8\"\u001b[39;49;00m,\n",
            "    \u001b[33m\"https://play-lh.googleusercontent.com/aa05kgRLR0qdJykqLOQfd47UEChaj24RBDCngvKqDlbLdQJDBIECNc6pzV3pihYY8Bg\"\u001b[39;49;00m,\n",
            "    \u001b[33m\"https://play-lh.googleusercontent.com/eW6puajMo1Uevquy-_P_qRWyXvbdqHQUjXlY-RlfxD914iA8ApqwcfuvIv_fyF34oh4\"\u001b[39;49;00m,\n",
            "    \u001b[33m\"https://play-lh.googleusercontent.com/5adGsXccIlkGjFbvXhky7ZW0oHR-mAytEu4yw7lPBVeMEiRj9al9OgFfztCQyZ1ZGFh0\"\u001b[39;49;00m,\n",
            "    \u001b[33m\"https://play-lh.googleusercontent.com/GLng94IiO4NVsSBi1OP15jT7CsNl-K74ZQprURn5CQE-6KXuj7j1AwCi_vvuSM7COFSL\"\u001b[39;49;00m,\n",
            "    \u001b[33m\"https://play-lh.googleusercontent.com/boTE4WQbV0sPE4iJgkjBLytBJHEZ-bw-QqJ4zYmcWcTazRjg3nVHxXA5RWgwj91XBjk\"\u001b[39;49;00m,\n",
            "    \u001b[33m\"https://play-lh.googleusercontent.com/KsHZ8LDaueGAcOQ96WsitARP0yaXzDPvZjiExRWWJRsDDBN7Y7BfXIfjs16lPBAsX2k\"\u001b[39;49;00m,\n",
            "    \u001b[33m\"https://play-lh.googleusercontent.com/kbOynZNqMnX469IALmzsr_xHOXThotrx4UWThZhdnPWoSsLqgUgjADai33PG17uQ3vk\"\u001b[39;49;00m,\n",
            "    \u001b[33m\"https://play-lh.googleusercontent.com/PzcARIFvR12eDG7dDUzjPUtXAWG5rmSMtPrHk7mFi0j1zaVXcDW3h-g0aCasM-9xUWg\"\u001b[39;49;00m,\n",
            "    \u001b[33m\"https://play-lh.googleusercontent.com/56ahnlSt6eyG-gw11MZwywzBxSxBO3j2-M3sS0jxR1R9VOiK93B3JBbbyVzr2FJybsGv\"\u001b[39;49;00m\n",
            "  ],\n",
            "  \u001b[94m\"similarApps\"\u001b[39;49;00m: [\n",
            "    \u001b[33m\"com.grabtaxi.passenger\"\u001b[39;49;00m,\n",
            "    \u001b[33m\"com.telkom.tracencare\"\u001b[39;49;00m,\n",
            "    \u001b[33m\"com.shopee.id\"\u001b[39;49;00m,\n",
            "    \u001b[33m\"com.tokopedia.tkpd\"\u001b[39;49;00m,\n",
            "    \u001b[33m\"com.traveloka.android\"\u001b[39;49;00m\n",
            "  ],\n",
            "  \u001b[94m\"size\"\u001b[39;49;00m: \u001b[33m\"71M\"\u001b[39;49;00m,\n",
            "  \u001b[94m\"summary\"\u001b[39;49;00m: \u001b[33m\"Transportasi, pembayaran tagihan, pesan makanan, logistik, dan belanja harian\"\u001b[39;49;00m,\n",
            "  \u001b[94m\"summaryHTML\"\u001b[39;49;00m: \u001b[33m\"Transportasi, pembayaran tagihan, pesan makanan, logistik, dan belanja harian\"\u001b[39;49;00m,\n",
            "  \u001b[94m\"title\"\u001b[39;49;00m: \u001b[33m\"Gojek\"\u001b[39;49;00m,\n",
            "  \u001b[94m\"updated\"\u001b[39;49;00m: \u001b[34m1649096937\u001b[39;49;00m,\n",
            "  \u001b[94m\"url\"\u001b[39;49;00m: \u001b[33m\"https://play.google.com/store/apps/details?id=com.gojek.app&hl=id&gl=id\"\u001b[39;49;00m,\n",
            "  \u001b[94m\"version\"\u001b[39;49;00m: \u001b[33m\"4.40.1\"\u001b[39;49;00m,\n",
            "  \u001b[94m\"video\"\u001b[39;49;00m: \u001b[34mnull\u001b[39;49;00m,\n",
            "  \u001b[94m\"videoImage\"\u001b[39;49;00m: \u001b[34mnull\u001b[39;49;00m\n",
            "}\n",
            "\n"
          ]
        }
      ]
    },
    {
      "cell_type": "code",
      "metadata": {
        "colab": {
          "base_uri": "https://localhost:8080/"
        },
        "id": "mUbqNbXi2tkJ",
        "outputId": "42c687ba-7ab6-47c6-aef4-daf60f186352"
      },
      "source": [
        "app_reviews = []\n",
        "for ap in tqdm(app_packages):\n",
        "  for score in list(range(5, 6)):\n",
        "    for sort_order in [Sort.MOST_RELEVANT, Sort.NEWEST]:\n",
        "      rvs, _ = reviews(\n",
        "        ap,\n",
        "        lang='id',\n",
        "        country='id',\n",
        "        sort=sort_order,\n",
        "        count= 9000 if score == 5 else 100,\n",
        "        filter_score_with=score\n",
        "      )\n",
        "      for r in rvs:\n",
        "        r['sortOrder'] = 'most_relevant' if sort_order == Sort.MOST_RELEVANT else 'newest'\n",
        "        r['appId'] = ap\n",
        "      app_reviews.extend(rvs)"
      ],
      "execution_count": null,
      "outputs": [
        {
          "output_type": "stream",
          "name": "stderr",
          "text": [
            "100%|██████████| 1/1 [00:26<00:00, 26.09s/it]\n"
          ]
        }
      ]
    },
    {
      "cell_type": "code",
      "metadata": {
        "colab": {
          "base_uri": "https://localhost:8080/"
        },
        "id": "-1vBWGuX2yXK",
        "outputId": "0dc0c1a5-46b5-4624-9321-f1a75dc813f7"
      },
      "source": [
        "print_json(app_reviews[0])"
      ],
      "execution_count": null,
      "outputs": [
        {
          "output_type": "stream",
          "name": "stdout",
          "text": [
            "{\n",
            "  \u001b[94m\"appId\"\u001b[39;49;00m: \u001b[33m\"com.gojek.app\"\u001b[39;49;00m,\n",
            "  \u001b[94m\"at\"\u001b[39;49;00m: \u001b[33m\"2022-03-18 06:03:16\"\u001b[39;49;00m,\n",
            "  \u001b[94m\"content\"\u001b[39;49;00m: \u001b[33m\"Sebelum di update sudah ada \\\"BUG\\\"nya, setelah di update malah tambah banyak!!! Mau logout malah tidak bisa, layar tertutup tulisan-tulisan TIDAK JELAS, tidak bisa di geser atau dipindah!!! Mana secara tampilan tidak ada perubahan, fungsi-fungsinya masih sama. Lama-lama aku UNINSTAL aplikasi ini!!!\"\u001b[39;49;00m,\n",
            "  \u001b[94m\"repliedAt\"\u001b[39;49;00m: \u001b[33m\"2021-12-06 08:21:59\"\u001b[39;49;00m,\n",
            "  \u001b[94m\"replyContent\"\u001b[39;49;00m: \u001b[33m\"Hai Setiyo Armanu, mohon maaf untuk kendalanya. Laporan yang kamu sampaikan akan menjadi masukan bagi kami untuk terus meningkatkan kualitas layanan kami ke depannya. Apabila kamu mengalami kendala terkait layanan Gojek, silakan laporkan melalui menu Bantuan di aplikasi Gojek agar tim kami bisa bantu cek ya. ^Ardi\"\u001b[39;49;00m,\n",
            "  \u001b[94m\"reviewCreatedVersion\"\u001b[39;49;00m: \u001b[33m\"4.39.2\"\u001b[39;49;00m,\n",
            "  \u001b[94m\"reviewId\"\u001b[39;49;00m: \u001b[33m\"gp:AOqpTOGKp4kpTIB4kXX9xKbbgi_Dcg4mUr-XGO-nreiU9FgOFy2dqoEvm6bmO64Ep0xBlGLZvDmKgLVSZfEg2w\"\u001b[39;49;00m,\n",
            "  \u001b[94m\"score\"\u001b[39;49;00m: \u001b[34m1\u001b[39;49;00m,\n",
            "  \u001b[94m\"sortOrder\"\u001b[39;49;00m: \u001b[33m\"most_relevant\"\u001b[39;49;00m,\n",
            "  \u001b[94m\"thumbsUpCount\"\u001b[39;49;00m: \u001b[34m1224\u001b[39;49;00m,\n",
            "  \u001b[94m\"userImage\"\u001b[39;49;00m: \u001b[33m\"https://play-lh.googleusercontent.com/a/AATXAJw_C6oe3gD0sc5o-AzY_jObydVPw4doMOft98q-=mo\"\u001b[39;49;00m,\n",
            "  \u001b[94m\"userName\"\u001b[39;49;00m: \u001b[33m\"Setiyo Armanu\"\u001b[39;49;00m\n",
            "}\n",
            "\n"
          ]
        }
      ]
    },
    {
      "cell_type": "code",
      "metadata": {
        "colab": {
          "base_uri": "https://localhost:8080/"
        },
        "id": "d2sVIhwY21NB",
        "outputId": "e73d15e1-50b3-4a5e-8fa6-46f9cb49ece4"
      },
      "source": [
        "len(app_reviews)"
      ],
      "execution_count": null,
      "outputs": [
        {
          "output_type": "execute_result",
          "data": {
            "text/plain": [
              "18000"
            ]
          },
          "metadata": {},
          "execution_count": 15
        }
      ]
    },
    {
      "cell_type": "code",
      "metadata": {
        "id": "TPsnhxGw25yR"
      },
      "source": [
        "app_reviews_df = pd.DataFrame(app_reviews)\n",
        "app_reviews_df.to_csv('reviews.csv', index=None, header=True)"
      ],
      "execution_count": null,
      "outputs": []
    },
    {
      "cell_type": "code",
      "metadata": {
        "id": "tHp9V49W3Giq"
      },
      "source": [],
      "execution_count": null,
      "outputs": []
    }
  ]
}